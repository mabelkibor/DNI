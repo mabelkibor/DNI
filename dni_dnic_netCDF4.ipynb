{
  "nbformat": 4,
  "nbformat_minor": 0,
  "metadata": {
    "colab": {
      "provenance": [],
      "authorship_tag": "ABX9TyMPOt8PXCwtDZiqUglgxzK4",
      "include_colab_link": true
    },
    "kernelspec": {
      "name": "python3",
      "display_name": "Python 3"
    },
    "language_info": {
      "name": "python"
    }
  },
  "cells": [
    {
      "cell_type": "markdown",
      "metadata": {
        "id": "view-in-github",
        "colab_type": "text"
      },
      "source": [
        "<a href=\"https://colab.research.google.com/github/mabelkibor/DNI/blob/main/dni_dnic_netCDF4.ipynb\" target=\"_parent\"><img src=\"https://colab.research.google.com/assets/colab-badge.svg\" alt=\"Open In Colab\"/></a>"
      ]
    },
    {
      "cell_type": "code",
      "source": [
        "import glob\n",
        "import pandas as pd\n",
        "import numpy as np\n",
        "from netCDF4 import Dataset\n",
        "from netCDF4 import num2date\n",
        "import matplotlib.pyplot as plt"
      ],
      "metadata": {
        "id": "PTeDyC5ir55F"
      },
      "execution_count": null,
      "outputs": []
    },
    {
      "cell_type": "code",
      "source": [
        "from google.colab import drive\n",
        "drive.mount('/content/drive')\n"
      ],
      "metadata": {
        "colab": {
          "base_uri": "https://localhost:8080/"
        },
        "id": "ZnhKP5l9sjJk",
        "outputId": "17469bd6-36aa-4771-a4c9-363302b61b73"
      },
      "execution_count": null,
      "outputs": [
        {
          "output_type": "stream",
          "name": "stdout",
          "text": [
            "Mounted at /content/drive\n"
          ]
        }
      ]
    },
    {
      "cell_type": "code",
      "source": [
        "dni_list =[]\n",
        "dnic_list=[]\n",
        "dates = []\n",
        "dni_unit_measure = []\n",
        "sites = pd.DataFrame({'Tower':[\"Ahero Onjiko Road\",\"Mara Sekenani Gate\"],\n",
        "                      'Lat':[-0.1708,-1.540820396],\n",
        "                      'Lon':[34.9517,35.34840385]})\n",
        "tower = []\n"
      ],
      "metadata": {
        "id": "SRG3o3besqw8"
      },
      "execution_count": null,
      "outputs": []
    },
    {
      "cell_type": "code",
      "source": [
        "for file in glob.glob('/content/drive/Shareddrives/Analytics/Data/GIS Data/ORD48502_4/*.nc'):\n",
        "    for site in sites.iterrows():\n",
        "\n",
        "        print(file)\n",
        "        data = Dataset(file, 'r')\n",
        "        lat = data.variables['lat'][:]\n",
        "        lon = data.variables['lon'][:]\n",
        "\n",
        "        sqr_diff_lat = (lat-site[1].Lat)**2\n",
        "        sqr_diff_lon = (lon-site[1].Lon)**2\n",
        "\n",
        "        # argmix()\n",
        "        lat_index = sqr_diff_lat.argmin()\n",
        "        lon_index = sqr_diff_lon.argmin()\n",
        "\n",
        "\n",
        "        date= num2date(times=data.variables['time'], units=data.variables['time'].units)\n",
        "\n",
        "        #print(str(date.data[0]))\n",
        "        DNI = data.variables['DNI']\n",
        "        DNIC = data.variables['DNIC']\n",
        "\n",
        "        dni_list.append(DNI[0,lat_index,lon_index])\n",
        "        dnic_list.append(DNIC[0,lat_index,lon_index])\n",
        "        dates.append(str(date.data[0]))\n",
        "        tower.append(site[1].Tower)\n",
        "\n",
        "        print(lat_index)\n",
        "        print(lon_index)\n",
        "        print(DNI[0,lat_index,lon_index])\n",
        "\n",
        "irradiation_data = {'DNI': dni_list, 'DNIC': dnic_list, 'Tower': tower}\n",
        "df  = pd.DataFrame(data=irradiation_data,index=dates)\n",
        "df.to_csv('./ORD48502_4 dni and dnic data.csv')\n",
        "\n",
        "\n",
        "df.head()"
      ],
      "metadata": {
        "id": "2RPDyoeasypM"
      },
      "execution_count": null,
      "outputs": []
    }
  ]
}